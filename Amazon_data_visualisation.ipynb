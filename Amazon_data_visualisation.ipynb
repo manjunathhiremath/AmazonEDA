{
 "cells": [
  {
   "cell_type": "code",
   "execution_count": 1,
   "metadata": {},
   "outputs": [
    {
     "data": {
      "text/html": [
       "<div>\n",
       "<style>\n",
       "    .dataframe thead tr:only-child th {\n",
       "        text-align: right;\n",
       "    }\n",
       "\n",
       "    .dataframe thead th {\n",
       "        text-align: left;\n",
       "    }\n",
       "\n",
       "    .dataframe tbody tr th {\n",
       "        vertical-align: top;\n",
       "    }\n",
       "</style>\n",
       "<table border=\"1\" class=\"dataframe\">\n",
       "  <thead>\n",
       "    <tr style=\"text-align: right;\">\n",
       "      <th></th>\n",
       "      <th>Id</th>\n",
       "      <th>ProductId</th>\n",
       "      <th>UserId</th>\n",
       "      <th>ProfileName</th>\n",
       "      <th>HelpfulnessNumerator</th>\n",
       "      <th>HelpfulnessDenominator</th>\n",
       "      <th>Score</th>\n",
       "      <th>Time</th>\n",
       "      <th>Summary</th>\n",
       "      <th>Text</th>\n",
       "    </tr>\n",
       "  </thead>\n",
       "  <tbody>\n",
       "    <tr>\n",
       "      <th>0</th>\n",
       "      <td>1</td>\n",
       "      <td>B001E4KFG0</td>\n",
       "      <td>A3SGXH7AUHU8GW</td>\n",
       "      <td>delmartian</td>\n",
       "      <td>1.0</td>\n",
       "      <td>1.0</td>\n",
       "      <td>5.0</td>\n",
       "      <td>1.303862e+09</td>\n",
       "      <td>Good Quality Dog Food</td>\n",
       "      <td>I have bought several of the Vitality canned d...</td>\n",
       "    </tr>\n",
       "    <tr>\n",
       "      <th>1</th>\n",
       "      <td>2</td>\n",
       "      <td>B00813GRG4</td>\n",
       "      <td>A1D87F6ZCVE5NK</td>\n",
       "      <td>dll pa</td>\n",
       "      <td>0.0</td>\n",
       "      <td>0.0</td>\n",
       "      <td>1.0</td>\n",
       "      <td>1.346976e+09</td>\n",
       "      <td>Not as Advertised</td>\n",
       "      <td>Product arrived labeled as Jumbo Salted Peanut...</td>\n",
       "    </tr>\n",
       "  </tbody>\n",
       "</table>\n",
       "</div>"
      ],
      "text/plain": [
       "   Id   ProductId          UserId ProfileName  HelpfulnessNumerator  \\\n",
       "0   1  B001E4KFG0  A3SGXH7AUHU8GW  delmartian                   1.0   \n",
       "1   2  B00813GRG4  A1D87F6ZCVE5NK      dll pa                   0.0   \n",
       "\n",
       "   HelpfulnessDenominator  Score          Time                Summary  \\\n",
       "0                     1.0    5.0  1.303862e+09  Good Quality Dog Food   \n",
       "1                     0.0    1.0  1.346976e+09      Not as Advertised   \n",
       "\n",
       "                                                Text  \n",
       "0  I have bought several of the Vitality canned d...  \n",
       "1  Product arrived labeled as Jumbo Salted Peanut...  "
      ]
     },
     "execution_count": 1,
     "metadata": {},
     "output_type": "execute_result"
    }
   ],
   "source": [
    "#Read the file with the help of pandas library and print first two elements \n",
    "import pandas as pd\n",
    "import warnings\n",
    "warnings.filterwarnings('ignore')\n",
    "dataframe=pd.read_csv(r\"D:\\Data science\\Data sets\\amazon-fine-food-reviews\\Reviews.csv\")\n",
    "dataframe.head(2)"
   ]
  },
  {
   "cell_type": "markdown",
   "metadata": {},
   "source": [
    "<h3><b><u>Data visualisation for amazon food reviews</u></b></h3>"
   ]
  },
  {
   "cell_type": "markdown",
   "metadata": {},
   "source": [
    "<b>1.Positive reviews are very common</b>"
   ]
  },
  {
   "cell_type": "code",
   "execution_count": 2,
   "metadata": {},
   "outputs": [
    {
     "data": {
      "text/plain": [
       "Score\n",
       "1.0     3218\n",
       "2.0     2006\n",
       "3.0     2860\n",
       "4.0     5071\n",
       "5.0    22017\n",
       "Name: Score, dtype: int64"
      ]
     },
     "execution_count": 2,
     "metadata": {},
     "output_type": "execute_result"
    }
   ],
   "source": [
    "dataframe.groupby('Score').Score.count()"
   ]
  },
  {
   "cell_type": "code",
   "execution_count": 3,
   "metadata": {},
   "outputs": [
    {
     "data": {
      "text/plain": [
       "<matplotlib.axes._subplots.AxesSubplot at 0x9a56390>"
      ]
     },
     "execution_count": 3,
     "metadata": {},
     "output_type": "execute_result"
    },
    {
     "data": {
      "image/png": "[encoded data removed]",
      "text/plain": [
       "<matplotlib.figure.Figure at 0x91ee390>"
      ]
     },
     "metadata": {},
     "output_type": "display_data"
    }
   ],
   "source": [
    "%matplotlib inline\n",
    "dataframe.groupby('Score').Score.count().plot(kind='pie',autopct='%1.1f%%',startangle=90,explode=(0,0.1,0,0,0),)"
   ]
  },
  {
   "cell_type": "markdown",
   "metadata": {},
   "source": [
    "<font face=\"verdana\" color=\"green\" span style=\"font-weight:bold\">Observation 1:</font>\n",
    "<p>a.The score plot for each score is as shown above.</p>\n",
    "<p>b.For this case study we are considering the reviews with score rating 4 and 5 as positive.The score with 1 and 2 as negative and the rating with 3 is not useful for making any decisions.So we are neglecting the score of 3</p>\n",
    "<p>c.So if we calculate the positive reviews percentage it is 62.6+14.4=77.0% and negative reviews percentage is 14.8%</p>\n",
    "<p>d.So we can conclude that positive reviews are very common</p>\n",
    "\n"
   ]
  },
  {
   "cell_type": "markdown",
   "metadata": {},
   "source": [
    "<b>2.Positive reviews are shorter.</b>"
   ]
  },
  {
   "cell_type": "code",
   "execution_count": 4,
   "metadata": {},
   "outputs": [
    {
     "data": {
      "text/html": [
       "<div>\n",
       "<style>\n",
       "    .dataframe thead tr:only-child th {\n",
       "        text-align: right;\n",
       "    }\n",
       "\n",
       "    .dataframe thead th {\n",
       "        text-align: left;\n",
       "    }\n",
       "\n",
       "    .dataframe tbody tr th {\n",
       "        vertical-align: top;\n",
       "    }\n",
       "</style>\n",
       "<table border=\"1\" class=\"dataframe\">\n",
       "  <thead>\n",
       "    <tr style=\"text-align: right;\">\n",
       "      <th></th>\n",
       "      <th>Id</th>\n",
       "      <th>ProductId</th>\n",
       "      <th>UserId</th>\n",
       "      <th>ProfileName</th>\n",
       "      <th>HelpfulnessNumerator</th>\n",
       "      <th>HelpfulnessDenominator</th>\n",
       "      <th>Score</th>\n",
       "      <th>Time</th>\n",
       "      <th>Summary</th>\n",
       "      <th>Text</th>\n",
       "      <th>Rating</th>\n",
       "    </tr>\n",
       "  </thead>\n",
       "  <tbody>\n",
       "    <tr>\n",
       "      <th>0</th>\n",
       "      <td>1</td>\n",
       "      <td>B001E4KFG0</td>\n",
       "      <td>A3SGXH7AUHU8GW</td>\n",
       "      <td>delmartian</td>\n",
       "      <td>1.0</td>\n",
       "      <td>1.0</td>\n",
       "      <td>5.0</td>\n",
       "      <td>1.303862e+09</td>\n",
       "      <td>Good Quality Dog Food</td>\n",
       "      <td>I have bought several of the Vitality canned d...</td>\n",
       "      <td>positive</td>\n",
       "    </tr>\n",
       "  </tbody>\n",
       "</table>\n",
       "</div>"
      ],
      "text/plain": [
       "   Id   ProductId          UserId ProfileName  HelpfulnessNumerator  \\\n",
       "0   1  B001E4KFG0  A3SGXH7AUHU8GW  delmartian                   1.0   \n",
       "\n",
       "   HelpfulnessDenominator  Score          Time                Summary  \\\n",
       "0                     1.0    5.0  1.303862e+09  Good Quality Dog Food   \n",
       "\n",
       "                                                Text    Rating  \n",
       "0  I have bought several of the Vitality canned d...  positive  "
      ]
     },
     "execution_count": 4,
     "metadata": {},
     "output_type": "execute_result"
    }
   ],
   "source": [
    "#Partion the data into positive and negative based on score as earlier discussed and map the rating to each score \n",
    "def partition(x):\n",
    "    if x < 3:\n",
    "        return 'negative'\n",
    "    return 'positive'\n",
    "\n",
    "Score = dataframe['Score']\n",
    "Score = Score.map(partition)\n",
    "dataframe['Rating']=Score\n",
    "dataframe.head(1)"
   ]
  },
  {
   "cell_type": "code",
   "execution_count": 5,
   "metadata": {
    "collapsed": true
   },
   "outputs": [],
   "source": [
    "data=dataframe.copy()\n",
    "word_count1,word_count2,word_count3=[],[],[]\n",
    "for s1 in data.Summary:\n",
    "    word_count1.append(len(str(s1).split()))\n",
    "for s2 in data.Text:\n",
    "    word_count2.append(len(str(s2).split()))\n",
    "word_count3=[x + y for x, y in zip(word_count1, word_count2)]\n"
   ]
  },
  {
   "cell_type": "code",
   "execution_count": 6,
   "metadata": {
    "collapsed": true
   },
   "outputs": [],
   "source": [
    "#Add newly created word_count3 column to data series\n",
    "data['word_count']=word_count3"
   ]
  },
  {
   "cell_type": "code",
   "execution_count": 7,
   "metadata": {},
   "outputs": [
    {
     "data": {
      "image/png": "[encoded data removed]",
      "text/plain": [
       "<matplotlib.figure.Figure at 0x9c58e48>"
      ]
     },
     "metadata": {},
     "output_type": "display_data"
    }
   ],
   "source": [
    "import seaborn as sns\n",
    "sns.boxplot(x=\"Score\",y=word_count3,data=data)\n",
    "sns.plt.show()"
   ]
  },
  {
   "cell_type": "code",
   "execution_count": 8,
   "metadata": {},
   "outputs": [
    {
     "data": {
      "image/png": "[encoded data removed]",
      "text/plain": [
       "<matplotlib.figure.Figure at 0x74b40b8>"
      ]
     },
     "metadata": {},
     "output_type": "display_data"
    },
    {
     "data": {
      "text/plain": [
       "Score\n",
       "1.0    69\n",
       "2.0    74\n",
       "3.0    76\n",
       "4.0    71\n",
       "5.0    54\n",
       "Name: word_count, dtype: int64"
      ]
     },
     "execution_count": 8,
     "metadata": {},
     "output_type": "execute_result"
    }
   ],
   "source": [
    "#Since there are outliers in the above boxplot we are not able to clearly visualize.So remove the outliers \n",
    "sns.boxplot(x=\"Score\",y=word_count3,data=data,showfliers=False)\n",
    "sns.plt.show()\n",
    "data.groupby('Score').word_count.median()"
   ]
  },
  {
   "cell_type": "markdown",
   "metadata": {},
   "source": [
    "<font face=\"verdana\" color=\"green\" span style=\"font-weight:bold\">Observation 2:</font>\n",
    "<p>a.Above is plot for number of words in each rating.</p>\n",
    "<p>b.Since beacause of outliers it is not much distinguishable in plot 1.So Plot 2 is after removal of outliers</p>\n",
    "<p>c.Its clear from the box plot that median of no. of words in case of 4 and 5 rating is less compared to 1 and 2 </p>\n",
    "<p>d.For verification use groupby function with score and find median.Then its clealy distinguishable</p>\n",
    "\n"
   ]
  },
  {
   "cell_type": "markdown",
   "metadata": {},
   "source": [
    "<b>3.Longer reviews are more helpful.</b>"
   ]
  },
  {
   "cell_type": "code",
   "execution_count": 9,
   "metadata": {
    "collapsed": true
   },
   "outputs": [],
   "source": [
    "#Finding the helpful ratio\n",
    "#Helpfulness=[(h1/h2) for h1 in data.HelpfulnessNumerator for h2 in data.HelpfulnessDenominator]\n",
    "Helpfulness=[]\n",
    "for n in data.Id:\n",
    "    Helpfulness.append(data.HelpfulnessNumerator[n-1]/data.HelpfulnessDenominator[n-1])\n",
    "\n",
    "#Since above list of helpfulness contains nan, replace the values with Zero\n",
    "import numpy as np\n",
    "Helpfulness=np.nan_to_num(Helpfulness)\n",
    "#We will keep a copy of Helpfullness\n",
    "Helpfulness_Ratio=Helpfulness.copy()"
   ]
  },
  {
   "cell_type": "code",
   "execution_count": 10,
   "metadata": {
    "collapsed": true
   },
   "outputs": [],
   "source": [
    "#Add Helpfullness column to data frame\n",
    "data['Helpfulness']=Helpfulness\n",
    "data['Helpfulness_Ratio']=Helpfulness_Ratio"
   ]
  },
  {
   "cell_type": "code",
   "execution_count": 11,
   "metadata": {},
   "outputs": [
    {
     "data": {
      "text/html": [
       "<div>\n",
       "<style>\n",
       "    .dataframe thead tr:only-child th {\n",
       "        text-align: right;\n",
       "    }\n",
       "\n",
       "    .dataframe thead th {\n",
       "        text-align: left;\n",
       "    }\n",
       "\n",
       "    .dataframe tbody tr th {\n",
       "        vertical-align: top;\n",
       "    }\n",
       "</style>\n",
       "<table border=\"1\" class=\"dataframe\">\n",
       "  <thead>\n",
       "    <tr style=\"text-align: right;\">\n",
       "      <th></th>\n",
       "      <th>Id</th>\n",
       "      <th>ProductId</th>\n",
       "      <th>UserId</th>\n",
       "      <th>ProfileName</th>\n",
       "      <th>HelpfulnessNumerator</th>\n",
       "      <th>HelpfulnessDenominator</th>\n",
       "      <th>Score</th>\n",
       "      <th>Time</th>\n",
       "      <th>Summary</th>\n",
       "      <th>Text</th>\n",
       "      <th>Rating</th>\n",
       "      <th>word_count</th>\n",
       "      <th>Helpfulness</th>\n",
       "      <th>Helpfulness_Ratio</th>\n",
       "    </tr>\n",
       "  </thead>\n",
       "  <tbody>\n",
       "    <tr>\n",
       "      <th>0</th>\n",
       "      <td>1</td>\n",
       "      <td>B001E4KFG0</td>\n",
       "      <td>A3SGXH7AUHU8GW</td>\n",
       "      <td>delmartian</td>\n",
       "      <td>1.0</td>\n",
       "      <td>1.0</td>\n",
       "      <td>5.0</td>\n",
       "      <td>1.303862e+09</td>\n",
       "      <td>Good Quality Dog Food</td>\n",
       "      <td>I have bought several of the Vitality canned d...</td>\n",
       "      <td>positive</td>\n",
       "      <td>52</td>\n",
       "      <td>1.0</td>\n",
       "      <td>1.0</td>\n",
       "    </tr>\n",
       "  </tbody>\n",
       "</table>\n",
       "</div>"
      ],
      "text/plain": [
       "   Id   ProductId          UserId ProfileName  HelpfulnessNumerator  \\\n",
       "0   1  B001E4KFG0  A3SGXH7AUHU8GW  delmartian                   1.0   \n",
       "\n",
       "   HelpfulnessDenominator  Score          Time                Summary  \\\n",
       "0                     1.0    5.0  1.303862e+09  Good Quality Dog Food   \n",
       "\n",
       "                                                Text    Rating  word_count  \\\n",
       "0  I have bought several of the Vitality canned d...  positive          52   \n",
       "\n",
       "   Helpfulness  Helpfulness_Ratio  \n",
       "0          1.0                1.0  "
      ]
     },
     "execution_count": 11,
     "metadata": {},
     "output_type": "execute_result"
    }
   ],
   "source": [
    "data.head(1)"
   ]
  },
  {
   "cell_type": "code",
   "execution_count": 12,
   "metadata": {
    "collapsed": true
   },
   "outputs": [],
   "source": [
    "#Now we will binarise the helpfullness to Helpful,Not helpful \n",
    "def partition(x):\n",
    "    if x < 0.75:\n",
    "        return 'Not Helpful'\n",
    "    return 'Helpful'\n",
    "Helpfulness=data['Helpfulness']\n",
    "Helpfulness=Helpfulness.map(partition)\n",
    "data['Helpfulness']=Helpfulness"
   ]
  },
  {
   "cell_type": "code",
   "execution_count": 13,
   "metadata": {
    "collapsed": true
   },
   "outputs": [],
   "source": [
    "words_count_new=[]\n",
    "help_ratio_new=[]\n",
    "for n in data.Id:\n",
    "    if data.word_count[n-1]>500:\n",
    "        words_count_new.append(data.word_count[n])\n",
    "        help_ratio_new.append(data.Helpfulness[n])\n"
   ]
  },
  {
   "cell_type": "code",
   "execution_count": 14,
   "metadata": {},
   "outputs": [
    {
     "data": {
      "image/png": "[encoded data removed]",
      "text/plain": [
       "<matplotlib.figure.Figure at 0xc903c18>"
      ]
     },
     "metadata": {},
     "output_type": "display_data"
    },
    {
     "data": {
      "text/html": [
       "<div>\n",
       "<style>\n",
       "    .dataframe thead tr:only-child th {\n",
       "        text-align: right;\n",
       "    }\n",
       "\n",
       "    .dataframe thead th {\n",
       "        text-align: left;\n",
       "    }\n",
       "\n",
       "    .dataframe tbody tr th {\n",
       "        vertical-align: top;\n",
       "    }\n",
       "</style>\n",
       "<table border=\"1\" class=\"dataframe\">\n",
       "  <thead>\n",
       "    <tr style=\"text-align: right;\">\n",
       "      <th></th>\n",
       "      <th>mean</th>\n",
       "      <th>median</th>\n",
       "    </tr>\n",
       "    <tr>\n",
       "      <th>Helpfulness</th>\n",
       "      <th></th>\n",
       "      <th></th>\n",
       "    </tr>\n",
       "  </thead>\n",
       "  <tbody>\n",
       "    <tr>\n",
       "      <th>Helpful</th>\n",
       "      <td>94.972204</td>\n",
       "      <td>69</td>\n",
       "    </tr>\n",
       "    <tr>\n",
       "      <th>Not Helpful</th>\n",
       "      <td>76.679388</td>\n",
       "      <td>55</td>\n",
       "    </tr>\n",
       "  </tbody>\n",
       "</table>\n",
       "</div>"
      ],
      "text/plain": [
       "                  mean  median\n",
       "Helpfulness                   \n",
       "Helpful      94.972204      69\n",
       "Not Helpful  76.679388      55"
      ]
     },
     "execution_count": 14,
     "metadata": {},
     "output_type": "execute_result"
    }
   ],
   "source": [
    "import seaborn as sns\n",
    "sns.violinplot(x=help_ratio_new, y=words_count_new,data=data,size=6,showfliers=False)\n",
    "sns.plt.show()\n",
    "data.groupby('Helpfulness').word_count.agg(['mean','median'])"
   ]
  },
  {
   "cell_type": "markdown",
   "metadata": {},
   "source": [
    "<font face=\"verdana\" color=\"green\" span style=\"font-weight:bold\">Observation 3:</font>\n",
    "<p>a.Above is voilin plot for number of words in Helpful and not Helpful ratings.</p>\n",
    "<p>b.From VOilin plot we can notice that median for number of words lies above in case of Helpfull</p>\n",
    "<p>c.For verification use groupby function with Helpfulness and word count find  mean median.Both mean and median have a high value</p>\n",
    "\n"
   ]
  },
  {
   "cell_type": "markdown",
   "metadata": {},
   "source": [
    "<b>4.Despite being more common and shorter, positive reviews are found more helpful.</b>"
   ]
  },
  {
   "cell_type": "code",
   "execution_count": 15,
   "metadata": {},
   "outputs": [
    {
     "data": {
      "text/plain": [
       "<matplotlib.axes._subplots.AxesSubplot at 0xc98fc88>"
      ]
     },
     "execution_count": 15,
     "metadata": {},
     "output_type": "execute_result"
    },
    {
     "data": {
      "image/png": "[encoded data removed]",
      "text/plain": [
       "<matplotlib.figure.Figure at 0x4911fd0>"
      ]
     },
     "metadata": {},
     "output_type": "display_data"
    }
   ],
   "source": [
    "data.groupby('Rating').Helpfulness.count().plot(kind='bar')"
   ]
  },
  {
   "cell_type": "markdown",
   "metadata": {},
   "source": [
    "<font face=\"verdana\" color=\"green\" span style=\"font-weight:bold\">Observation 4:</font>\n",
    "<p>a.Above is bar graph plot for positive and negative reviews against Helpfulness.</p>\n",
    "<p>b.So the number for postive reviews is much higher compared to negative.\n",
    "<p>c.Positive reviews are helpfull in more than 30000 cases were as negative reviews are less helpful that is around 5000 cases</p>\n",
    "\n"
   ]
  },
  {
   "cell_type": "markdown",
   "metadata": {},
   "source": [
    "<b>5.Frequent reviewers are more discerning in their ratings, write longer reviews, and write more helpful reviews.</b>"
   ]
  },
  {
   "cell_type": "code",
   "execution_count": 16,
   "metadata": {
    "collapsed": true
   },
   "outputs": [],
   "source": [
    "#Find the frequency of user ordering the product \n",
    "import collections\n",
    "user=data['UserId']\n",
    "counter = collections.Counter(user) "
   ]
  },
  {
   "cell_type": "code",
   "execution_count": 17,
   "metadata": {
    "collapsed": true
   },
   "outputs": [],
   "source": [
    "#based on his ordering if the consumer has ordered the products more than 5 times than consider him as frequent user\n",
    "Frequent=[]\n",
    "for n in data.UserId:\n",
    "    if counter[n]>5:\n",
    "        Frequent.append('Frequent')\n",
    "    else:\n",
    "        Frequent.append('Not Frequent')"
   ]
  },
  {
   "cell_type": "code",
   "execution_count": 18,
   "metadata": {
    "collapsed": true
   },
   "outputs": [],
   "source": [
    "#Now add this frequent column to data\n",
    "data['Frequent']=Frequent"
   ]
  },
  {
   "cell_type": "code",
   "execution_count": 19,
   "metadata": {},
   "outputs": [
    {
     "data": {
      "text/plain": [
       "Frequent\n",
       "Frequent        4.271255\n",
       "Not Frequent    4.152791\n",
       "Name: Score, dtype: float64"
      ]
     },
     "execution_count": 19,
     "metadata": {},
     "output_type": "execute_result"
    },
    {
     "data": {
      "image/png": "[encoded data removed]",
      "text/plain": [
       "<matplotlib.figure.Figure at 0xc942d68>"
      ]
     },
     "metadata": {},
     "output_type": "display_data"
    }
   ],
   "source": [
    "data.groupby('Frequent').Score.mean().plot(kind='bar')\n",
    "data.groupby('Frequent').Score.mean()"
   ]
  },
  {
   "cell_type": "markdown",
   "metadata": {},
   "source": [
    "<font face=\"verdana\" color=\"green\" span style=\"font-weight:bold\">Observation 5.a:</font>\n",
    "<p>a.Above is bar graph plot for Frequent user and not frequent user vs Score.</p>\n",
    "<p>b.So the frequent user score mean is 4.27 and Not frequent user score is 4.15</p>\n",
    "<p>c.What it really means is frequent user on an average he is giving a Score(rating) of product 4.27 where as not frequent user on an average he is giving a Score(rating) of 4.15 </p>\n",
    "<p>d.So Frequent reviewers are more discerning in their ratings </p>"
   ]
  },
  {
   "cell_type": "code",
   "execution_count": 20,
   "metadata": {},
   "outputs": [
    {
     "data": {
      "text/plain": [
       "Frequent\n",
       "Frequent        117\n",
       "Not Frequent     59\n",
       "Name: word_count, dtype: int64"
      ]
     },
     "execution_count": 20,
     "metadata": {},
     "output_type": "execute_result"
    },
    {
     "data": {
      "image/png": "[encoded data removed]",
      "text/plain": [
       "<matplotlib.figure.Figure at 0xccdb080>"
      ]
     },
     "metadata": {},
     "output_type": "display_data"
    }
   ],
   "source": [
    "data.groupby('Frequent').word_count.median().plot(kind='bar')\n",
    "data.groupby('Frequent').word_count.median()"
   ]
  },
  {
   "cell_type": "markdown",
   "metadata": {},
   "source": [
    "<font face=\"verdana\" color=\"green\" span style=\"font-weight:bold\">Observation 5.b:</font>\n",
    "<p>a.Above is bar graph plot for Frequent user and not frequent user vs Word count.</p>\n",
    "<p>b.So the frequent user word count median is 117 and Not frequent user word count median is 59</p>\n",
    "<p>c.So Frequent reviewers write longer reviews </p>\n",
    "\n",
    "<p><b>Note</b>:Here we are taken median because some user may write very lengthy review and some user very short reviews.So instead of mean,median is best suited here</p>"
   ]
  },
  {
   "cell_type": "code",
   "execution_count": 23,
   "metadata": {},
   "outputs": [
    {
     "data": {
      "text/plain": [
       "Frequent\n",
       "Frequent        0.473373\n",
       "Not Frequent    0.388615\n",
       "Name: Helpfulness_Ratio, dtype: float64"
      ]
     },
     "execution_count": 23,
     "metadata": {},
     "output_type": "execute_result"
    },
    {
     "data": {
      "image/png": "[encoded data removed]",
      "text/plain": [
       "<matplotlib.figure.Figure at 0xc9f8048>"
      ]
     },
     "metadata": {},
     "output_type": "display_data"
    }
   ],
   "source": [
    "#write more helpful reviews.\n",
    "data.groupby('Frequent').Helpfulness_Ratio.mean().plot(kind='bar')\n",
    "data.groupby('Frequent').Helpfulness_Ratio.mean()"
   ]
  },
  {
   "cell_type": "markdown",
   "metadata": {},
   "source": [
    "<font face=\"verdana\" color=\"green\" span style=\"font-weight:bold\">Observation 5.c:</font>\n",
    "<p>a.Above is bar graph plot for Frequent user and not frequent user vs Helpfullness ratio.</p>\n",
    "<p>b.So the frequent user helpfullness ratio is 0.4733 and Not frequent user helpfullness ratio is 0.3886</p>\n",
    "<p>c.So Frequent reviewers write more helpful reviews </p>\n",
    "\n",
    "<p><b>Note</b>:Here we are taken mean because helpfulness ratio is ranging between 0 to 1.So instead of mean,median is best suited here</p>"
   ]
  },
  {
   "cell_type": "code",
   "execution_count": null,
   "metadata": {
    "collapsed": true
   },
   "outputs": [],
   "source": []
  }
 ],
 "metadata": {
  "kernelspec": {
   "display_name": "Python 3",
   "language": "python",
   "name": "python3"
  },
  "language_info": {
   "codemirror_mode": {
    "name": "ipython",
    "version": 3
   },
   "file_extension": ".py",
   "mimetype": "text/x-python",
   "name": "python",
   "nbconvert_exporter": "python",
   "pygments_lexer": "ipython3",
   "version": "3.6.1"
  }
 },
 "nbformat": 4,
 "nbformat_minor": 2
}
